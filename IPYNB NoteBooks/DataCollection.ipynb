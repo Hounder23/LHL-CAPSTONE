{
 "cells": [
  {
   "cell_type": "code",
   "execution_count": null,
   "metadata": {},
   "outputs": [],
   "source": [
    "# the objective of this notebook is to collect data from 2 APIs and store them as csv Files \n",
    "# The first API will be the Universalis API to collect \n",
    "# Historical market data in the consumable market in FFXIV\n",
    "# The second API will be the XIVAPI to collect\n",
    "# Item data and World data for the consumable market in FFXIV\n",
    "# The data will be stored in csv files for further analysis\n",
    "\n",
    "# Importing the required libraries\n",
    "import requests\n",
    "import json\n",
    "import pandas as pd\n",
    "import time\n",
    "import datetime\n",
    "import os\n",
    "import numpy as np\n",
    "\n",
    "# Setting the working directory\n",
    "os.chdir('/home/andres/Documents/FFXIV')\n",
    "\n",
    "# Setting the API Key for XIVAPI from the environment variable XIVAPI_KEY\n",
    "xivapi_key = os.environ.get('XIVAPI_KEY')\n",
    "\n",
    "# Setting the URL for the Universalis API\n",
    "# https://docs.universalis.app/\n",
    "univeralis_url = 'https://universalis.app/api/'\n",
    "\n",
    "# Setting the URL for the XIVAPI\n",
    "# https://xivapi.com/docs\n",
    "xivapi_url = 'https://xivapi.com/'\n",
    "\n"
   ]
  }
 ],
 "metadata": {
  "kernelspec": {
   "display_name": "base",
   "language": "python",
   "name": "python3"
  },
  "language_info": {
   "name": "python",
   "version": "3.11.5"
  }
 },
 "nbformat": 4,
 "nbformat_minor": 2
}
