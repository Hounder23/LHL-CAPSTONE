{
 "cells": [
  {
   "cell_type": "code",
   "execution_count": 2,
   "metadata": {},
   "outputs": [],
   "source": [
    "# the objective of this notebook is to collect data from 2 APIs and store them as csv Files \n",
    "# The first API will be the Universalis API to collect \n",
    "# Historical market data in the consumable market in FFXIV\n",
    "# The second API will be the XIVAPI to collect\n",
    "# Item data and World data for the consumable market in FFXIV\n",
    "# The data will be stored in csv files for further analysis\n",
    "\n",
    "# Importing the required libraries\n",
    "import requests\n",
    "import json\n",
    "import pandas as pd\n",
    "import time\n",
    "import datetime\n",
    "import os\n",
    "import numpy as np\n",
    "\n",
    "# Universalis API no key required\n",
    "# Setting the API Key for XIVAPI from the environment variable XIVAPI_KEY\n",
    "xivapi_key = os.environ.get('XIVAPI_KEY')\n",
    "\n",
    "# Setting the URL for the Universalis API\n",
    "# https://docs.universalis.app/\n",
    "univeralis_url = 'https://universalis.app/api/'\n",
    "\n",
    "# Setting the URL for the XIVAPI\n",
    "# https://xivapi.com/docs\n",
    "xivapi_url = 'https://xivapi.com/'\n",
    "\n"
   ]
  },
  {
   "cell_type": "code",
   "execution_count": 4,
   "metadata": {},
   "outputs": [
    {
     "name": "stdout",
     "output_type": "stream",
     "text": [
      "None\n"
     ]
    }
   ],
   "source": [
    "print(xivapi_key)\n"
   ]
  },
  {
   "cell_type": "code",
   "execution_count": null,
   "metadata": {},
   "outputs": [],
   "source": []
  }
 ],
 "metadata": {
  "kernelspec": {
   "display_name": "base",
   "language": "python",
   "name": "python3"
  },
  "language_info": {
   "codemirror_mode": {
    "name": "ipython",
    "version": 3
   },
   "file_extension": ".py",
   "mimetype": "text/x-python",
   "name": "python",
   "nbconvert_exporter": "python",
   "pygments_lexer": "ipython3",
   "version": "3.11.5"
  }
 },
 "nbformat": 4,
 "nbformat_minor": 2
}
